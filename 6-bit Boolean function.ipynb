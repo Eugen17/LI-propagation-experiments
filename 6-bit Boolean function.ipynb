{
 "cells": [
  {
   "cell_type": "markdown",
   "id": "08d5a7ba-77ff-4783-90e0-1f90684078b9",
   "metadata": {},
   "source": [
    "### As the basic for the experiment it is take 6 bit cipher with 2 parallel Sboxes and P layer [0, 3, 4, 1, 2, 5]"
   ]
  },
  {
   "cell_type": "code",
   "execution_count": null,
   "id": "73b837d8-1847-4f3a-81fd-acfdaaa47bbe",
   "metadata": {},
   "outputs": [],
   "source": []
  }
 ],
 "metadata": {
  "kernelspec": {
   "display_name": "Python 3 (ipykernel)",
   "language": "python",
   "name": "python3"
  },
  "language_info": {
   "codemirror_mode": {
    "name": "ipython",
    "version": 3
   },
   "file_extension": ".py",
   "mimetype": "text/x-python",
   "name": "python",
   "nbconvert_exporter": "python",
   "pygments_lexer": "ipython3",
   "version": "3.11.11"
  }
 },
 "nbformat": 4,
 "nbformat_minor": 5
}
